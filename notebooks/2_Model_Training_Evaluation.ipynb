{
 "cells": [
  {
   "cell_type": "code",
   "execution_count": null,
   "id": "278e5a4c",
   "metadata": {},
   "outputs": [],
   "source": [
    "import torch\n",
    "import torch.nn as nn\n",
    "import torch.optim as optim\n",
    "from tqdm.notebook import tqdm\n",
    "from sklearn.metrics import classification_report, confusion_matrix\n",
    "import matplotlib.pyplot as plt\n",
    "import seaborn as sns\n",
    "import numpy as np\n",
    "import os\n",
    "import sys\n",
    "sys.path.append(os.path.join(os.path.dirname(os.getcwd()), 'src'))\n",
    "\n",
    "import config\n",
    "from dataset import get_dataloaders\n",
    "from model import get_model\n",
    "from train import train_model, evaluate_model "
   ]
  },
  {
   "cell_type": "code",
   "execution_count": 3,
   "id": "a87062d9",
   "metadata": {},
   "outputs": [
    {
     "name": "stdout",
     "output_type": "stream",
     "text": [
      "Getting DataLoaders...\n",
      "Number of training samples: 528\n",
      "Number of validation samples: 93\n",
      "Number of test samples: 185\n",
      "Classes: ['Fish', 'Goldfish', 'Harbor seal', 'Jellyfish', 'Lobster', 'Oyster', 'Sea turtle', 'Squid', 'Starfish']\n",
      "DataLoaders ready.\n"
     ]
    }
   ],
   "source": [
    "print(\"Getting DataLoaders...\")\n",
    "train_loader, val_loader, test_loader, class_names, class_to_idx = get_dataloaders(\n",
    "    config.TRAIN_DIR, config.TEST_DIR, config.IMAGE_SIZE, config.BATCH_SIZE,\n",
    "    config.IMAGENET_MEAN, config.IMAGENET_STD\n",
    ")\n",
    "print(\"DataLoaders ready.\")"
   ]
  },
  {
   "cell_type": "code",
   "execution_count": 4,
   "id": "8be9f9db",
   "metadata": {},
   "outputs": [
    {
     "name": "stdout",
     "output_type": "stream",
     "text": [
      "Loading model: resnet50...\n",
      "Downloading: \"https://download.pytorch.org/models/resnet50-0676ba61.pth\" to C:\\Users\\userm/.cache\\torch\\hub\\checkpoints\\resnet50-0676ba61.pth\n"
     ]
    },
    {
     "name": "stderr",
     "output_type": "stream",
     "text": [
      "d:\\Job\\Atharva\\Projects\\marine-species-classification\\venv\\Lib\\site-packages\\torchvision\\models\\_utils.py:208: UserWarning: The parameter 'pretrained' is deprecated since 0.13 and may be removed in the future, please use 'weights' instead.\n",
      "  warnings.warn(\n",
      "d:\\Job\\Atharva\\Projects\\marine-species-classification\\venv\\Lib\\site-packages\\torchvision\\models\\_utils.py:223: UserWarning: Arguments other than a weight enum or `None` for 'weights' are deprecated since 0.13 and may be removed in the future. The current behavior is equivalent to passing `weights=ResNet50_Weights.IMAGENET1K_V1`. You can also use `weights=ResNet50_Weights.DEFAULT` to get the most up-to-date weights.\n",
      "  warnings.warn(msg)\n",
      "100%|██████████| 97.8M/97.8M [00:21<00:00, 4.71MB/s]\n",
      "\n"
     ]
    },
    {
     "name": "stdout",
     "output_type": "stream",
     "text": [
      "Using device: cpu\n",
      "Model ready.\n"
     ]
    }
   ],
   "source": [
    "print(f\"Loading model: {config.MODEL_NAME}...\")\n",
    "model = get_model(config.MODEL_NAME, config.NUM_CLASSES)\n",
    "print(f\"Using device: {config.DEVICE}\")\n",
    "model.to(config.DEVICE)\n",
    "print(\"Model ready.\")"
   ]
  },
  {
   "cell_type": "code",
   "execution_count": null,
   "id": "c833ad0a",
   "metadata": {},
   "outputs": [
    {
     "name": "stdout",
     "output_type": "stream",
     "text": [
      "Loss function and optimizer defined.\n"
     ]
    }
   ],
   "source": [
    "criterion = nn.CrossEntropyLoss()\n",
    "optimizer = optim.Adam(model.fc.parameters(), lr=config.LEARNING_RATE)\n",
    "print(\"Loss function and optimizer defined.\")\n"
   ]
  },
  {
   "cell_type": "code",
   "execution_count": 6,
   "id": "672feec3",
   "metadata": {},
   "outputs": [
    {
     "name": "stdout",
     "output_type": "stream",
     "text": [
      "\n",
      "Starting training for 25 epochs...\n"
     ]
    },
    {
     "name": "stderr",
     "output_type": "stream",
     "text": [
      "Epoch 1/25 Training: 100%|██████████| 17/17 [00:44<00:00,  2.61s/it]\n",
      "Epoch 1/25 Training: 100%|██████████| 17/17 [00:44<00:00,  2.61s/it]\n"
     ]
    },
    {
     "name": "stdout",
     "output_type": "stream",
     "text": [
      "Epoch 1 - Train Loss: 1.7797, Train Accuracy: 0.4110\n"
     ]
    },
    {
     "name": "stderr",
     "output_type": "stream",
     "text": [
      "Validation Evaluation: 100%|██████████| 3/3 [00:30<00:00, 10.05s/it]\n",
      "\n"
     ]
    },
    {
     "name": "stdout",
     "output_type": "stream",
     "text": [
      "\n",
      "Validation Loss: 1.2641, Validation Accuracy: 0.6344\n",
      "Epoch 1 - Val Loss: 1.2641, Val Accuracy: 0.6344\n",
      "Saved best model with Val Accuracy: 0.6344 to d:\\Job\\Atharva\\Projects\\marine-species-classification\\outputs\\models\\resnet50_best_model.pth\n"
     ]
    },
    {
     "name": "stderr",
     "output_type": "stream",
     "text": [
      "Epoch 2/25 Training: 100%|██████████| 17/17 [00:42<00:00,  2.51s/it]\n",
      "Epoch 2/25 Training: 100%|██████████| 17/17 [00:42<00:00,  2.51s/it]\n"
     ]
    },
    {
     "name": "stdout",
     "output_type": "stream",
     "text": [
      "Epoch 2 - Train Loss: 0.9760, Train Accuracy: 0.7595\n"
     ]
    },
    {
     "name": "stderr",
     "output_type": "stream",
     "text": [
      "Validation Evaluation: 100%|██████████| 3/3 [00:29<00:00,  9.75s/it]\n",
      "\n"
     ]
    },
    {
     "name": "stdout",
     "output_type": "stream",
     "text": [
      "\n",
      "Validation Loss: 0.8825, Validation Accuracy: 0.7634\n",
      "Epoch 2 - Val Loss: 0.8825, Val Accuracy: 0.7634\n",
      "Saved best model with Val Accuracy: 0.7634 to d:\\Job\\Atharva\\Projects\\marine-species-classification\\outputs\\models\\resnet50_best_model.pth\n"
     ]
    },
    {
     "name": "stderr",
     "output_type": "stream",
     "text": [
      "Epoch 3/25 Training: 100%|██████████| 17/17 [00:41<00:00,  2.45s/it]\n",
      "Epoch 3/25 Training: 100%|██████████| 17/17 [00:41<00:00,  2.45s/it]\n"
     ]
    },
    {
     "name": "stdout",
     "output_type": "stream",
     "text": [
      "Epoch 3 - Train Loss: 0.6804, Train Accuracy: 0.8333\n"
     ]
    },
    {
     "name": "stderr",
     "output_type": "stream",
     "text": [
      "Validation Evaluation: 100%|██████████| 3/3 [00:29<00:00,  9.81s/it]\n",
      "Validation Evaluation: 100%|██████████| 3/3 [00:29<00:00,  9.81s/it]\n"
     ]
    },
    {
     "name": "stdout",
     "output_type": "stream",
     "text": [
      "\n",
      "Validation Loss: 0.6965, Validation Accuracy: 0.8065\n",
      "Epoch 3 - Val Loss: 0.6965, Val Accuracy: 0.8065\n",
      "Saved best model with Val Accuracy: 0.8065 to d:\\Job\\Atharva\\Projects\\marine-species-classification\\outputs\\models\\resnet50_best_model.pth\n"
     ]
    },
    {
     "name": "stderr",
     "output_type": "stream",
     "text": [
      "Epoch 4/25 Training: 100%|██████████| 17/17 [00:41<00:00,  2.45s/it]\n",
      "Epoch 4/25 Training: 100%|██████████| 17/17 [00:41<00:00,  2.45s/it]\n"
     ]
    },
    {
     "name": "stdout",
     "output_type": "stream",
     "text": [
      "Epoch 4 - Train Loss: 0.5536, Train Accuracy: 0.8693\n"
     ]
    },
    {
     "name": "stderr",
     "output_type": "stream",
     "text": [
      "Validation Evaluation: 100%|██████████| 3/3 [00:29<00:00,  9.98s/it]\n",
      "\n"
     ]
    },
    {
     "name": "stdout",
     "output_type": "stream",
     "text": [
      "\n",
      "Validation Loss: 0.6304, Validation Accuracy: 0.8387\n",
      "Epoch 4 - Val Loss: 0.6304, Val Accuracy: 0.8387\n",
      "Saved best model with Val Accuracy: 0.8387 to d:\\Job\\Atharva\\Projects\\marine-species-classification\\outputs\\models\\resnet50_best_model.pth\n"
     ]
    },
    {
     "name": "stderr",
     "output_type": "stream",
     "text": [
      "Epoch 5/25 Training: 100%|██████████| 17/17 [00:42<00:00,  2.48s/it]\n",
      "Epoch 5/25 Training: 100%|██████████| 17/17 [00:42<00:00,  2.48s/it]\n"
     ]
    },
    {
     "name": "stdout",
     "output_type": "stream",
     "text": [
      "Epoch 5 - Train Loss: 0.4796, Train Accuracy: 0.8845\n"
     ]
    },
    {
     "name": "stderr",
     "output_type": "stream",
     "text": [
      "Validation Evaluation: 100%|██████████| 3/3 [00:29<00:00,  9.67s/it]\n",
      "Validation Evaluation: 100%|██████████| 3/3 [00:29<00:00,  9.67s/it]\n"
     ]
    },
    {
     "name": "stdout",
     "output_type": "stream",
     "text": [
      "\n",
      "Validation Loss: 0.6369, Validation Accuracy: 0.7957\n",
      "Epoch 5 - Val Loss: 0.6369, Val Accuracy: 0.7957\n"
     ]
    },
    {
     "name": "stderr",
     "output_type": "stream",
     "text": [
      "Epoch 6/25 Training: 100%|██████████| 17/17 [00:41<00:00,  2.45s/it]\n",
      "Epoch 6/25 Training: 100%|██████████| 17/17 [00:41<00:00,  2.45s/it]\n"
     ]
    },
    {
     "name": "stdout",
     "output_type": "stream",
     "text": [
      "Epoch 6 - Train Loss: 0.4337, Train Accuracy: 0.8958\n"
     ]
    },
    {
     "name": "stderr",
     "output_type": "stream",
     "text": [
      "Validation Evaluation: 100%|██████████| 3/3 [00:28<00:00,  9.66s/it]\n",
      "\n"
     ]
    },
    {
     "name": "stdout",
     "output_type": "stream",
     "text": [
      "\n",
      "Validation Loss: 0.5604, Validation Accuracy: 0.8495\n",
      "Epoch 6 - Val Loss: 0.5604, Val Accuracy: 0.8495\n",
      "Saved best model with Val Accuracy: 0.8495 to d:\\Job\\Atharva\\Projects\\marine-species-classification\\outputs\\models\\resnet50_best_model.pth\n"
     ]
    },
    {
     "name": "stderr",
     "output_type": "stream",
     "text": [
      "Epoch 7/25 Training: 100%|██████████| 17/17 [00:42<00:00,  2.48s/it]\n",
      "Epoch 7/25 Training: 100%|██████████| 17/17 [00:42<00:00,  2.48s/it]\n"
     ]
    },
    {
     "name": "stdout",
     "output_type": "stream",
     "text": [
      "Epoch 7 - Train Loss: 0.3984, Train Accuracy: 0.8920\n"
     ]
    },
    {
     "name": "stderr",
     "output_type": "stream",
     "text": [
      "Validation Evaluation: 100%|██████████| 3/3 [00:28<00:00,  9.65s/it]\n",
      "Validation Evaluation: 100%|██████████| 3/3 [00:28<00:00,  9.65s/it]\n"
     ]
    },
    {
     "name": "stdout",
     "output_type": "stream",
     "text": [
      "\n",
      "Validation Loss: 0.5668, Validation Accuracy: 0.8495\n",
      "Epoch 7 - Val Loss: 0.5668, Val Accuracy: 0.8495\n"
     ]
    },
    {
     "name": "stderr",
     "output_type": "stream",
     "text": [
      "Epoch 8/25 Training: 100%|██████████| 17/17 [00:42<00:00,  2.48s/it]\n",
      "Epoch 8/25 Training: 100%|██████████| 17/17 [00:42<00:00,  2.48s/it]\n"
     ]
    },
    {
     "name": "stdout",
     "output_type": "stream",
     "text": [
      "Epoch 8 - Train Loss: 0.3493, Train Accuracy: 0.9205\n"
     ]
    },
    {
     "name": "stderr",
     "output_type": "stream",
     "text": [
      "Validation Evaluation: 100%|██████████| 3/3 [00:28<00:00,  9.60s/it]\n",
      "Validation Evaluation: 100%|██████████| 3/3 [00:28<00:00,  9.60s/it]\n"
     ]
    },
    {
     "name": "stdout",
     "output_type": "stream",
     "text": [
      "\n",
      "Validation Loss: 0.5521, Validation Accuracy: 0.8387\n",
      "Epoch 8 - Val Loss: 0.5521, Val Accuracy: 0.8387\n"
     ]
    },
    {
     "name": "stderr",
     "output_type": "stream",
     "text": [
      "Epoch 9/25 Training: 100%|██████████| 17/17 [00:41<00:00,  2.44s/it]\n",
      "Epoch 9/25 Training: 100%|██████████| 17/17 [00:41<00:00,  2.44s/it]\n"
     ]
    },
    {
     "name": "stdout",
     "output_type": "stream",
     "text": [
      "Epoch 9 - Train Loss: 0.3707, Train Accuracy: 0.9072\n"
     ]
    },
    {
     "name": "stderr",
     "output_type": "stream",
     "text": [
      "Validation Evaluation: 100%|██████████| 3/3 [00:28<00:00,  9.60s/it]\n",
      "Validation Evaluation: 100%|██████████| 3/3 [00:28<00:00,  9.60s/it]\n"
     ]
    },
    {
     "name": "stdout",
     "output_type": "stream",
     "text": [
      "\n",
      "Validation Loss: 0.5930, Validation Accuracy: 0.7849\n",
      "Epoch 9 - Val Loss: 0.5930, Val Accuracy: 0.7849\n"
     ]
    },
    {
     "name": "stderr",
     "output_type": "stream",
     "text": [
      "Epoch 10/25 Training: 100%|██████████| 17/17 [00:42<00:00,  2.48s/it]\n",
      "Epoch 10/25 Training: 100%|██████████| 17/17 [00:42<00:00,  2.48s/it]\n"
     ]
    },
    {
     "name": "stdout",
     "output_type": "stream",
     "text": [
      "Epoch 10 - Train Loss: 0.3150, Train Accuracy: 0.9205\n"
     ]
    },
    {
     "name": "stderr",
     "output_type": "stream",
     "text": [
      "Validation Evaluation: 100%|██████████| 3/3 [00:28<00:00,  9.60s/it]\n",
      "Validation Evaluation: 100%|██████████| 3/3 [00:28<00:00,  9.60s/it]\n"
     ]
    },
    {
     "name": "stdout",
     "output_type": "stream",
     "text": [
      "\n",
      "Validation Loss: 0.5308, Validation Accuracy: 0.8495\n",
      "Epoch 10 - Val Loss: 0.5308, Val Accuracy: 0.8495\n"
     ]
    },
    {
     "name": "stderr",
     "output_type": "stream",
     "text": [
      "Epoch 11/25 Training: 100%|██████████| 17/17 [00:41<00:00,  2.46s/it]\n",
      "Epoch 11/25 Training: 100%|██████████| 17/17 [00:41<00:00,  2.46s/it]\n"
     ]
    },
    {
     "name": "stdout",
     "output_type": "stream",
     "text": [
      "Epoch 11 - Train Loss: 0.2913, Train Accuracy: 0.9280\n"
     ]
    },
    {
     "name": "stderr",
     "output_type": "stream",
     "text": [
      "Validation Evaluation: 100%|██████████| 3/3 [00:28<00:00,  9.55s/it]\n",
      "Validation Evaluation: 100%|██████████| 3/3 [00:28<00:00,  9.55s/it]\n"
     ]
    },
    {
     "name": "stdout",
     "output_type": "stream",
     "text": [
      "\n",
      "Validation Loss: 0.5284, Validation Accuracy: 0.8495\n",
      "Epoch 11 - Val Loss: 0.5284, Val Accuracy: 0.8495\n"
     ]
    },
    {
     "name": "stderr",
     "output_type": "stream",
     "text": [
      "Epoch 12/25 Training: 100%|██████████| 17/17 [00:42<00:00,  2.50s/it]\n",
      "Epoch 12/25 Training: 100%|██████████| 17/17 [00:42<00:00,  2.50s/it]\n"
     ]
    },
    {
     "name": "stdout",
     "output_type": "stream",
     "text": [
      "Epoch 12 - Train Loss: 0.2699, Train Accuracy: 0.9318\n"
     ]
    },
    {
     "name": "stderr",
     "output_type": "stream",
     "text": [
      "Validation Evaluation: 100%|██████████| 3/3 [00:28<00:00,  9.55s/it]\n",
      "Validation Evaluation: 100%|██████████| 3/3 [00:28<00:00,  9.55s/it]\n"
     ]
    },
    {
     "name": "stdout",
     "output_type": "stream",
     "text": [
      "\n",
      "Validation Loss: 0.5509, Validation Accuracy: 0.8387\n",
      "Epoch 12 - Val Loss: 0.5509, Val Accuracy: 0.8387\n"
     ]
    },
    {
     "name": "stderr",
     "output_type": "stream",
     "text": [
      "Epoch 13/25 Training: 100%|██████████| 17/17 [00:41<00:00,  2.46s/it]\n",
      "Epoch 13/25 Training: 100%|██████████| 17/17 [00:41<00:00,  2.46s/it]\n"
     ]
    },
    {
     "name": "stdout",
     "output_type": "stream",
     "text": [
      "Epoch 13 - Train Loss: 0.2675, Train Accuracy: 0.9337\n"
     ]
    },
    {
     "name": "stderr",
     "output_type": "stream",
     "text": [
      "Validation Evaluation: 100%|██████████| 3/3 [00:28<00:00,  9.50s/it]\n",
      "Validation Evaluation: 100%|██████████| 3/3 [00:28<00:00,  9.50s/it]\n"
     ]
    },
    {
     "name": "stdout",
     "output_type": "stream",
     "text": [
      "\n",
      "Validation Loss: 0.5266, Validation Accuracy: 0.8280\n",
      "Epoch 13 - Val Loss: 0.5266, Val Accuracy: 0.8280\n"
     ]
    },
    {
     "name": "stderr",
     "output_type": "stream",
     "text": [
      "Epoch 14/25 Training: 100%|██████████| 17/17 [00:42<00:00,  2.48s/it]\n",
      "Epoch 14/25 Training: 100%|██████████| 17/17 [00:42<00:00,  2.48s/it]\n"
     ]
    },
    {
     "name": "stdout",
     "output_type": "stream",
     "text": [
      "Epoch 14 - Train Loss: 0.2237, Train Accuracy: 0.9489\n"
     ]
    },
    {
     "name": "stderr",
     "output_type": "stream",
     "text": [
      "Validation Evaluation: 100%|██████████| 3/3 [00:29<00:00,  9.68s/it]\n",
      "Validation Evaluation: 100%|██████████| 3/3 [00:29<00:00,  9.68s/it]\n"
     ]
    },
    {
     "name": "stdout",
     "output_type": "stream",
     "text": [
      "\n",
      "Validation Loss: 0.5086, Validation Accuracy: 0.8495\n",
      "Epoch 14 - Val Loss: 0.5086, Val Accuracy: 0.8495\n"
     ]
    },
    {
     "name": "stderr",
     "output_type": "stream",
     "text": [
      "Epoch 15/25 Training: 100%|██████████| 17/17 [00:41<00:00,  2.46s/it]\n",
      "Epoch 15/25 Training: 100%|██████████| 17/17 [00:41<00:00,  2.46s/it]\n"
     ]
    },
    {
     "name": "stdout",
     "output_type": "stream",
     "text": [
      "Epoch 15 - Train Loss: 0.2052, Train Accuracy: 0.9545\n"
     ]
    },
    {
     "name": "stderr",
     "output_type": "stream",
     "text": [
      "Validation Evaluation: 100%|██████████| 3/3 [00:29<00:00,  9.73s/it]\n",
      "\n"
     ]
    },
    {
     "name": "stdout",
     "output_type": "stream",
     "text": [
      "\n",
      "Validation Loss: 0.5163, Validation Accuracy: 0.8602\n",
      "Epoch 15 - Val Loss: 0.5163, Val Accuracy: 0.8602\n",
      "Saved best model with Val Accuracy: 0.8602 to d:\\Job\\Atharva\\Projects\\marine-species-classification\\outputs\\models\\resnet50_best_model.pth\n"
     ]
    },
    {
     "name": "stderr",
     "output_type": "stream",
     "text": [
      "Epoch 16/25 Training: 100%|██████████| 17/17 [00:42<00:00,  2.49s/it]\n",
      "Epoch 16/25 Training: 100%|██████████| 17/17 [00:42<00:00,  2.49s/it]\n"
     ]
    },
    {
     "name": "stdout",
     "output_type": "stream",
     "text": [
      "Epoch 16 - Train Loss: 0.2076, Train Accuracy: 0.9621\n"
     ]
    },
    {
     "name": "stderr",
     "output_type": "stream",
     "text": [
      "Validation Evaluation: 100%|██████████| 3/3 [00:28<00:00,  9.52s/it]\n",
      "Validation Evaluation: 100%|██████████| 3/3 [00:28<00:00,  9.52s/it]\n"
     ]
    },
    {
     "name": "stdout",
     "output_type": "stream",
     "text": [
      "\n",
      "Validation Loss: 0.4864, Validation Accuracy: 0.8280\n",
      "Epoch 16 - Val Loss: 0.4864, Val Accuracy: 0.8280\n"
     ]
    },
    {
     "name": "stderr",
     "output_type": "stream",
     "text": [
      "Epoch 17/25 Training: 100%|██████████| 17/17 [00:42<00:00,  2.49s/it]\n",
      "Epoch 17/25 Training: 100%|██████████| 17/17 [00:42<00:00,  2.49s/it]\n"
     ]
    },
    {
     "name": "stdout",
     "output_type": "stream",
     "text": [
      "Epoch 17 - Train Loss: 0.1954, Train Accuracy: 0.9621\n"
     ]
    },
    {
     "name": "stderr",
     "output_type": "stream",
     "text": [
      "Validation Evaluation: 100%|██████████| 3/3 [00:29<00:00,  9.79s/it]\n",
      "Validation Evaluation: 100%|██████████| 3/3 [00:29<00:00,  9.79s/it]\n"
     ]
    },
    {
     "name": "stdout",
     "output_type": "stream",
     "text": [
      "\n",
      "Validation Loss: 0.4917, Validation Accuracy: 0.8387\n",
      "Epoch 17 - Val Loss: 0.4917, Val Accuracy: 0.8387\n"
     ]
    },
    {
     "name": "stderr",
     "output_type": "stream",
     "text": [
      "Epoch 18/25 Training: 100%|██████████| 17/17 [00:42<00:00,  2.48s/it]\n",
      "Epoch 18/25 Training: 100%|██████████| 17/17 [00:42<00:00,  2.48s/it]\n"
     ]
    },
    {
     "name": "stdout",
     "output_type": "stream",
     "text": [
      "Epoch 18 - Train Loss: 0.1727, Train Accuracy: 0.9773\n"
     ]
    },
    {
     "name": "stderr",
     "output_type": "stream",
     "text": [
      "Validation Evaluation: 100%|██████████| 3/3 [00:28<00:00,  9.59s/it]\n",
      "Validation Evaluation: 100%|██████████| 3/3 [00:28<00:00,  9.59s/it]\n"
     ]
    },
    {
     "name": "stdout",
     "output_type": "stream",
     "text": [
      "\n",
      "Validation Loss: 0.4937, Validation Accuracy: 0.8602\n",
      "Epoch 18 - Val Loss: 0.4937, Val Accuracy: 0.8602\n"
     ]
    },
    {
     "name": "stderr",
     "output_type": "stream",
     "text": [
      "Epoch 19/25 Training: 100%|██████████| 17/17 [00:42<00:00,  2.49s/it]\n",
      "Epoch 19/25 Training: 100%|██████████| 17/17 [00:42<00:00,  2.49s/it]\n"
     ]
    },
    {
     "name": "stdout",
     "output_type": "stream",
     "text": [
      "Epoch 19 - Train Loss: 0.1699, Train Accuracy: 0.9754\n"
     ]
    },
    {
     "name": "stderr",
     "output_type": "stream",
     "text": [
      "Validation Evaluation: 100%|██████████| 3/3 [00:28<00:00,  9.60s/it]\n",
      "Validation Evaluation: 100%|██████████| 3/3 [00:28<00:00,  9.60s/it]\n"
     ]
    },
    {
     "name": "stdout",
     "output_type": "stream",
     "text": [
      "\n",
      "Validation Loss: 0.4880, Validation Accuracy: 0.8495\n",
      "Epoch 19 - Val Loss: 0.4880, Val Accuracy: 0.8495\n"
     ]
    },
    {
     "name": "stderr",
     "output_type": "stream",
     "text": [
      "Epoch 20/25 Training: 100%|██████████| 17/17 [00:43<00:00,  2.57s/it]\n",
      "Epoch 20/25 Training: 100%|██████████| 17/17 [00:43<00:00,  2.57s/it]\n"
     ]
    },
    {
     "name": "stdout",
     "output_type": "stream",
     "text": [
      "Epoch 20 - Train Loss: 0.1571, Train Accuracy: 0.9754\n"
     ]
    },
    {
     "name": "stderr",
     "output_type": "stream",
     "text": [
      "Validation Evaluation: 100%|██████████| 3/3 [00:29<00:00, 10.00s/it]\n",
      "Validation Evaluation: 100%|██████████| 3/3 [00:29<00:00, 10.00s/it]\n"
     ]
    },
    {
     "name": "stdout",
     "output_type": "stream",
     "text": [
      "\n",
      "Validation Loss: 0.4996, Validation Accuracy: 0.8495\n",
      "Epoch 20 - Val Loss: 0.4996, Val Accuracy: 0.8495\n"
     ]
    },
    {
     "name": "stderr",
     "output_type": "stream",
     "text": [
      "Epoch 21/25 Training: 100%|██████████| 17/17 [00:43<00:00,  2.59s/it]\n",
      "Epoch 21/25 Training: 100%|██████████| 17/17 [00:43<00:00,  2.59s/it]\n"
     ]
    },
    {
     "name": "stdout",
     "output_type": "stream",
     "text": [
      "Epoch 21 - Train Loss: 0.1729, Train Accuracy: 0.9678\n"
     ]
    },
    {
     "name": "stderr",
     "output_type": "stream",
     "text": [
      "Validation Evaluation: 100%|██████████| 3/3 [00:30<00:00, 10.27s/it]\n",
      "Validation Evaluation: 100%|██████████| 3/3 [00:30<00:00, 10.27s/it]\n"
     ]
    },
    {
     "name": "stdout",
     "output_type": "stream",
     "text": [
      "\n",
      "Validation Loss: 0.5251, Validation Accuracy: 0.8172\n",
      "Epoch 21 - Val Loss: 0.5251, Val Accuracy: 0.8172\n"
     ]
    },
    {
     "name": "stderr",
     "output_type": "stream",
     "text": [
      "Epoch 22/25 Training: 100%|██████████| 17/17 [00:42<00:00,  2.50s/it]\n",
      "Epoch 22/25 Training: 100%|██████████| 17/17 [00:42<00:00,  2.50s/it]\n"
     ]
    },
    {
     "name": "stdout",
     "output_type": "stream",
     "text": [
      "Epoch 22 - Train Loss: 0.1700, Train Accuracy: 0.9697\n"
     ]
    },
    {
     "name": "stderr",
     "output_type": "stream",
     "text": [
      "Validation Evaluation: 100%|██████████| 3/3 [00:28<00:00,  9.62s/it]\n",
      "Validation Evaluation: 100%|██████████| 3/3 [00:28<00:00,  9.62s/it]\n"
     ]
    },
    {
     "name": "stdout",
     "output_type": "stream",
     "text": [
      "\n",
      "Validation Loss: 0.5414, Validation Accuracy: 0.8602\n",
      "Epoch 22 - Val Loss: 0.5414, Val Accuracy: 0.8602\n"
     ]
    },
    {
     "name": "stderr",
     "output_type": "stream",
     "text": [
      "Epoch 23/25 Training: 100%|██████████| 17/17 [00:42<00:00,  2.47s/it]\n",
      "Epoch 23/25 Training: 100%|██████████| 17/17 [00:42<00:00,  2.47s/it]\n"
     ]
    },
    {
     "name": "stdout",
     "output_type": "stream",
     "text": [
      "Epoch 23 - Train Loss: 0.1745, Train Accuracy: 0.9545\n"
     ]
    },
    {
     "name": "stderr",
     "output_type": "stream",
     "text": [
      "Validation Evaluation: 100%|██████████| 3/3 [00:29<00:00,  9.74s/it]\n",
      "\n"
     ]
    },
    {
     "name": "stdout",
     "output_type": "stream",
     "text": [
      "\n",
      "Validation Loss: 0.5156, Validation Accuracy: 0.8710\n",
      "Epoch 23 - Val Loss: 0.5156, Val Accuracy: 0.8710\n",
      "Saved best model with Val Accuracy: 0.8710 to d:\\Job\\Atharva\\Projects\\marine-species-classification\\outputs\\models\\resnet50_best_model.pth\n"
     ]
    },
    {
     "name": "stderr",
     "output_type": "stream",
     "text": [
      "Epoch 24/25 Training: 100%|██████████| 17/17 [00:42<00:00,  2.51s/it]\n",
      "Epoch 24/25 Training: 100%|██████████| 17/17 [00:42<00:00,  2.51s/it]\n"
     ]
    },
    {
     "name": "stdout",
     "output_type": "stream",
     "text": [
      "Epoch 24 - Train Loss: 0.1591, Train Accuracy: 0.9735\n"
     ]
    },
    {
     "name": "stderr",
     "output_type": "stream",
     "text": [
      "Validation Evaluation: 100%|██████████| 3/3 [00:29<00:00,  9.84s/it]\n",
      "Validation Evaluation: 100%|██████████| 3/3 [00:29<00:00,  9.84s/it]\n"
     ]
    },
    {
     "name": "stdout",
     "output_type": "stream",
     "text": [
      "\n",
      "Validation Loss: 0.5236, Validation Accuracy: 0.7957\n",
      "Epoch 24 - Val Loss: 0.5236, Val Accuracy: 0.7957\n"
     ]
    },
    {
     "name": "stderr",
     "output_type": "stream",
     "text": [
      "Epoch 25/25 Training: 100%|██████████| 17/17 [00:41<00:00,  2.46s/it]\n",
      "Epoch 25/25 Training: 100%|██████████| 17/17 [00:41<00:00,  2.46s/it]\n"
     ]
    },
    {
     "name": "stdout",
     "output_type": "stream",
     "text": [
      "Epoch 25 - Train Loss: 0.1632, Train Accuracy: 0.9621\n"
     ]
    },
    {
     "name": "stderr",
     "output_type": "stream",
     "text": [
      "Validation Evaluation: 100%|██████████| 3/3 [00:29<00:00,  9.83s/it]"
     ]
    },
    {
     "name": "stdout",
     "output_type": "stream",
     "text": [
      "\n",
      "Validation Loss: 0.5690, Validation Accuracy: 0.8172\n",
      "Epoch 25 - Val Loss: 0.5690, Val Accuracy: 0.8172\n",
      "Training complete!\n",
      "Training finished.\n"
     ]
    },
    {
     "name": "stderr",
     "output_type": "stream",
     "text": [
      "\n"
     ]
    }
   ],
   "source": [
    "print(f\"\\nStarting training for {config.NUM_EPOCHS} epochs...\")\n",
    "train_model(model, train_loader, val_loader, criterion, optimizer, config.NUM_EPOCHS, config.DEVICE, config.SAVE_MODEL_PATH)\n",
    "print(\"Training finished.\")"
   ]
  },
  {
   "cell_type": "code",
   "execution_count": null,
   "id": "9176b938",
   "metadata": {},
   "outputs": [
    {
     "name": "stdout",
     "output_type": "stream",
     "text": [
      "\n",
      "Loading the best model for final evaluation...\n"
     ]
    },
    {
     "name": "stderr",
     "output_type": "stream",
     "text": [
      "Test Evaluation: 100%|██████████| 6/6 [00:11<00:00,  1.85s/it]\n",
      "\n"
     ]
    },
    {
     "name": "stdout",
     "output_type": "stream",
     "text": [
      "\n",
      "Test Loss: 0.4285, Test Accuracy: 0.8541\n",
      "\n",
      "Classification Report:\n",
      "              precision    recall  f1-score   support\n",
      "\n",
      "        Fish       0.86      0.67      0.75        18\n",
      "    Goldfish       1.00      0.92      0.96        13\n",
      " Harbor seal       0.94      1.00      0.97        15\n",
      "   Jellyfish       0.97      0.90      0.93        31\n",
      "     Lobster       1.00      0.86      0.92        14\n",
      "      Oyster       0.95      0.87      0.91        23\n",
      "  Sea turtle       0.82      1.00      0.90        23\n",
      "       Squid       0.74      0.56      0.64        25\n",
      "    Starfish       0.65      0.96      0.77        23\n",
      "\n",
      "    accuracy                           0.85       185\n",
      "   macro avg       0.88      0.86      0.86       185\n",
      "weighted avg       0.87      0.85      0.85       185\n",
      "\n"
     ]
    },
    {
     "data": {
      "image/png": "[encoded data removed]",
      "text/plain": [
       "<Figure size 1000x800 with 2 Axes>"
      ]
     },
     "metadata": {},
     "output_type": "display_data"
    },
    {
     "name": "stdout",
     "output_type": "stream",
     "text": [
      "Final Test Accuracy: 0.8541\n",
      "\n",
      "Model training and evaluation complete.\n"
     ]
    }
   ],
   "source": [
    "print(\"\\nLoading the best model for final evaluation...\")\n",
    "model.load_state_dict(torch.load(config.SAVE_MODEL_PATH))\n",
    "test_loss, test_accuracy, all_labels, all_predictions, _ = evaluate_model(\n",
    "    model, test_loader, criterion, config.DEVICE, phase=\"Test\", class_names=class_names\n",
    ")\n",
    "print(f\"Final Test Accuracy: {test_accuracy:.4f}\")\n",
    "\n",
    "print(\"\\nModel training and evaluation complete.\")"
   ]
  }
 ],
 "metadata": {
  "kernelspec": {
   "display_name": "venv",
   "language": "python",
   "name": "python3"
  },
  "language_info": {
   "codemirror_mode": {
    "name": "ipython",
    "version": 3
   },
   "file_extension": ".py",
   "mimetype": "text/x-python",
   "name": "python",
   "nbconvert_exporter": "python",
   "pygments_lexer": "ipython3",
   "version": "3.12.10"
  }
 },
 "nbformat": 4,
 "nbformat_minor": 5
}
