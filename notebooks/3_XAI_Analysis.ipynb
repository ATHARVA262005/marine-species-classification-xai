{
 "cells": [
  {
   "cell_type": "code",
   "execution_count": null,
   "id": "c1642cd1",
   "metadata": {},
   "outputs": [],
   "source": [
    "import torch\n",
    "import os\n",
    "import sys\n",
    "from torchvision import datasets, transforms\n",
    "from torch.utils.data import DataLoader\n",
    "import random\n",
    "from PIL import Image\n",
    "import matplotlib.pyplot as plt\n",
    "import numpy as np\n",
    "sys.path.append(os.path.join(os.path.dirname(os.getcwd()), 'src'))\n",
    "\n",
    "import config\n",
    "from model import get_model\n",
    "from xai_utils import visualize_gradcam, preprocess_image_for_xai\n"
   ]
  },
  {
   "cell_type": "code",
   "execution_count": null,
   "id": "c15fa4b6",
   "metadata": {},
   "outputs": [
    {
     "name": "stdout",
     "output_type": "stream",
     "text": [
      "Loading best trained model from: d:\\Job\\Atharva\\Projects\\marine-species-classification\\outputs\\models\\resnet50_best_model.pth\n"
     ]
    },
    {
     "name": "stderr",
     "output_type": "stream",
     "text": [
      "d:\\Job\\Atharva\\Projects\\marine-species-classification\\venv\\Lib\\site-packages\\torchvision\\models\\_utils.py:208: UserWarning: The parameter 'pretrained' is deprecated since 0.13 and may be removed in the future, please use 'weights' instead.\n",
      "  warnings.warn(\n",
      "d:\\Job\\Atharva\\Projects\\marine-species-classification\\venv\\Lib\\site-packages\\torchvision\\models\\_utils.py:223: UserWarning: Arguments other than a weight enum or `None` for 'weights' are deprecated since 0.13 and may be removed in the future. The current behavior is equivalent to passing `weights=None`.\n",
      "  warnings.warn(msg)\n"
     ]
    },
    {
     "name": "stdout",
     "output_type": "stream",
     "text": [
      "Model loaded successfully.\n"
     ]
    }
   ],
   "source": [
    "print(f\"Loading best trained model from: {config.SAVE_MODEL_PATH}\")\n",
    "model = get_model(config.MODEL_NAME, config.NUM_CLASSES, pretrained=False)\n",
    "model.load_state_dict(torch.load(config.SAVE_MODEL_PATH, map_location=config.DEVICE))\n",
    "model.to(config.DEVICE)\n",
    "model.eval()\n",
    "print(\"Model loaded successfully.\")"
   ]
  },
  {
   "cell_type": "code",
   "execution_count": 3,
   "id": "2f31cc54",
   "metadata": {},
   "outputs": [
    {
     "name": "stdout",
     "output_type": "stream",
     "text": [
      "Class names: ['Fish', 'Goldfish', 'Harbor seal', 'Jellyfish', 'Lobster', 'Oyster', 'Sea turtle', 'Squid', 'Starfish']\n"
     ]
    }
   ],
   "source": [
    "temp_dataset = datasets.ImageFolder(config.TRAIN_DIR)\n",
    "class_names = temp_dataset.classes\n",
    "class_to_idx = temp_dataset.class_to_idx\n",
    "idx_to_class = {v: k for k, v in class_to_idx.items()}\n",
    "print(f\"Class names: {class_names}\")"
   ]
  },
  {
   "cell_type": "code",
   "execution_count": null,
   "id": "0be9346f",
   "metadata": {},
   "outputs": [
    {
     "name": "stdout",
     "output_type": "stream",
     "text": [
      "\n",
      "Selecting random images from the test set for XAI analysis...\n"
     ]
    }
   ],
   "source": [
    "print(\"\\nSelecting random images from the test set for XAI analysis...\")\n",
    "test_dataset_paths = []\n",
    "for class_folder in os.listdir(config.TEST_DIR):\n",
    "    class_path = os.path.join(config.TEST_DIR, class_folder)\n",
    "    if os.path.isdir(class_path):\n",
    "        for img_name in os.listdir(class_path):\n",
    "            test_dataset_paths.append(os.path.join(class_path, img_name))\n",
    "\n",
    "num_images_to_analyze = 5\n",
    "selected_image_paths = random.sample(test_dataset_paths, num_images_to_analyze)\n"
   ]
  },
  {
   "cell_type": "code",
   "execution_count": null,
   "id": "c1642cd1",
   "metadata": {},
   "outputs": [
    {
     "name": "stdout",
     "output_type": "stream",
     "text": [
      "Enabling gradients for all model parameters...\n",
      "Model structure:\n",
      "  layer4: <class 'torch.nn.modules.container.Sequential'>\n",
      "  layer4.0: <class 'torchvision.models.resnet.Bottleneck'>\n",
      "  layer4.0.conv1: <class 'torch.nn.modules.conv.Conv2d'>\n",
      "  layer4.0.bn1: <class 'torch.nn.modules.batchnorm.BatchNorm2d'>\n",
      "  layer4.0.conv2: <class 'torch.nn.modules.conv.Conv2d'>\n",
      "  layer4.0.bn2: <class 'torch.nn.modules.batchnorm.BatchNorm2d'>\n",
      "  layer4.0.conv3: <class 'torch.nn.modules.conv.Conv2d'>\n",
      "  layer4.0.bn3: <class 'torch.nn.modules.batchnorm.BatchNorm2d'>\n",
      "  layer4.0.relu: <class 'torch.nn.modules.activation.ReLU'>\n",
      "  layer4.0.downsample: <class 'torch.nn.modules.container.Sequential'>\n",
      "  layer4.0.downsample.0: <class 'torch.nn.modules.conv.Conv2d'>\n",
      "  layer4.0.downsample.1: <class 'torch.nn.modules.batchnorm.BatchNorm2d'>\n",
      "  layer4.1: <class 'torchvision.models.resnet.Bottleneck'>\n",
      "  layer4.1.conv1: <class 'torch.nn.modules.conv.Conv2d'>\n",
      "  layer4.1.bn1: <class 'torch.nn.modules.batchnorm.BatchNorm2d'>\n",
      "  layer4.1.conv2: <class 'torch.nn.modules.conv.Conv2d'>\n",
      "  layer4.1.bn2: <class 'torch.nn.modules.batchnorm.BatchNorm2d'>\n",
      "  layer4.1.conv3: <class 'torch.nn.modules.conv.Conv2d'>\n",
      "  layer4.1.bn3: <class 'torch.nn.modules.batchnorm.BatchNorm2d'>\n",
      "  layer4.1.relu: <class 'torch.nn.modules.activation.ReLU'>\n",
      "  layer4.2: <class 'torchvision.models.resnet.Bottleneck'>\n",
      "  layer4.2.conv1: <class 'torch.nn.modules.conv.Conv2d'>\n",
      "  layer4.2.bn1: <class 'torch.nn.modules.batchnorm.BatchNorm2d'>\n",
      "  layer4.2.conv2: <class 'torch.nn.modules.conv.Conv2d'>\n",
      "  layer4.2.bn2: <class 'torch.nn.modules.batchnorm.BatchNorm2d'>\n",
      "  layer4.2.conv3: <class 'torch.nn.modules.conv.Conv2d'>\n",
      "  layer4.2.bn3: <class 'torch.nn.modules.batchnorm.BatchNorm2d'>\n",
      "  layer4.2.relu: <class 'torch.nn.modules.activation.ReLU'>\n",
      "\n",
      "Final layer structure: Linear(in_features=2048, out_features=9, bias=True)\n",
      "\n",
      "Generating Grad-CAM visualizations...\n",
      "Processing: d:\\Job\\Atharva\\Projects\\marine-species-classification\\data\\images\\test\\Squid\\602cf8e3204d82e8.jpg\n",
      "  Predicted class: Squid (Confidence: 0.4511)\n",
      "Using target layer: Conv2d(512, 2048, kernel_size=(1, 1), stride=(1, 1), bias=False)\n",
      "Saved Grad-CAM visualization to: d:\\Job\\Atharva\\Projects\\marine-species-classification\\outputs\\visualizations\\gradcam_Squid_602cf8e3204d82e8.png\n",
      "Processing: d:\\Job\\Atharva\\Projects\\marine-species-classification\\data\\images\\test\\Lobster\\418f44ae9827c21e.jpg\n",
      "  Predicted class: Lobster (Confidence: 0.9730)\n",
      "Using target layer: Conv2d(512, 2048, kernel_size=(1, 1), stride=(1, 1), bias=False)\n",
      "Saved Grad-CAM visualization to: d:\\Job\\Atharva\\Projects\\marine-species-classification\\outputs\\visualizations\\gradcam_Squid_602cf8e3204d82e8.png\n",
      "Processing: d:\\Job\\Atharva\\Projects\\marine-species-classification\\data\\images\\test\\Lobster\\418f44ae9827c21e.jpg\n",
      "  Predicted class: Lobster (Confidence: 0.9730)\n",
      "Using target layer: Conv2d(512, 2048, kernel_size=(1, 1), stride=(1, 1), bias=False)\n",
      "Saved Grad-CAM visualization to: d:\\Job\\Atharva\\Projects\\marine-species-classification\\outputs\\visualizations\\gradcam_Lobster_418f44ae9827c21e.png\n",
      "Processing: d:\\Job\\Atharva\\Projects\\marine-species-classification\\data\\images\\test\\Lobster\\1475e042f8d9255f.jpg\n",
      "  Predicted class: Lobster (Confidence: 0.8346)\n",
      "Using target layer: Conv2d(512, 2048, kernel_size=(1, 1), stride=(1, 1), bias=False)\n",
      "Saved Grad-CAM visualization to: d:\\Job\\Atharva\\Projects\\marine-species-classification\\outputs\\visualizations\\gradcam_Lobster_418f44ae9827c21e.png\n",
      "Processing: d:\\Job\\Atharva\\Projects\\marine-species-classification\\data\\images\\test\\Lobster\\1475e042f8d9255f.jpg\n",
      "  Predicted class: Lobster (Confidence: 0.8346)\n",
      "Using target layer: Conv2d(512, 2048, kernel_size=(1, 1), stride=(1, 1), bias=False)\n",
      "Saved Grad-CAM visualization to: d:\\Job\\Atharva\\Projects\\marine-species-classification\\outputs\\visualizations\\gradcam_Lobster_1475e042f8d9255f.png\n",
      "Processing: d:\\Job\\Atharva\\Projects\\marine-species-classification\\data\\images\\test\\Oyster\\9a4e16ebca5aa320.jpg\n",
      "  Predicted class: Oyster (Confidence: 0.9982)\n",
      "Using target layer: Conv2d(512, 2048, kernel_size=(1, 1), stride=(1, 1), bias=False)\n",
      "Saved Grad-CAM visualization to: d:\\Job\\Atharva\\Projects\\marine-species-classification\\outputs\\visualizations\\gradcam_Lobster_1475e042f8d9255f.png\n",
      "Processing: d:\\Job\\Atharva\\Projects\\marine-species-classification\\data\\images\\test\\Oyster\\9a4e16ebca5aa320.jpg\n",
      "  Predicted class: Oyster (Confidence: 0.9982)\n",
      "Using target layer: Conv2d(512, 2048, kernel_size=(1, 1), stride=(1, 1), bias=False)\n",
      "Saved Grad-CAM visualization to: d:\\Job\\Atharva\\Projects\\marine-species-classification\\outputs\\visualizations\\gradcam_Oyster_9a4e16ebca5aa320.png\n",
      "Processing: d:\\Job\\Atharva\\Projects\\marine-species-classification\\data\\images\\test\\Fish\\93a6d5a722daadd3.jpg\n",
      "  Predicted class: Fish (Confidence: 0.2893)\n",
      "Using target layer: Conv2d(512, 2048, kernel_size=(1, 1), stride=(1, 1), bias=False)\n",
      "Saved Grad-CAM visualization to: d:\\Job\\Atharva\\Projects\\marine-species-classification\\outputs\\visualizations\\gradcam_Oyster_9a4e16ebca5aa320.png\n",
      "Processing: d:\\Job\\Atharva\\Projects\\marine-species-classification\\data\\images\\test\\Fish\\93a6d5a722daadd3.jpg\n",
      "  Predicted class: Fish (Confidence: 0.2893)\n",
      "Using target layer: Conv2d(512, 2048, kernel_size=(1, 1), stride=(1, 1), bias=False)\n",
      "Saved Grad-CAM visualization to: d:\\Job\\Atharva\\Projects\\marine-species-classification\\outputs\\visualizations\\gradcam_Fish_93a6d5a722daadd3.png\n",
      "\n",
      "Grad-CAM analysis complete. Check the 'outputs/visualizations' folder for images.\n",
      "Saved Grad-CAM visualization to: d:\\Job\\Atharva\\Projects\\marine-species-classification\\outputs\\visualizations\\gradcam_Fish_93a6d5a722daadd3.png\n",
      "\n",
      "Grad-CAM analysis complete. Check the 'outputs/visualizations' folder for images.\n"
     ]
    }
   ],
   "source": [
    "print(\"Enabling gradients for all model parameters...\")\n",
    "for param in model.parameters():\n",
    "    param.requires_grad = True\n",
    "\n",
    "print(\"Model structure:\")\n",
    "for name, module in model.named_modules():\n",
    "    if 'layer4' in name:\n",
    "        print(f\"  {name}: {type(module)}\")\n",
    "\n",
    "print(f\"\\nFinal layer structure: {model.fc}\")\n",
    "\n",
    "print(\"\\nGenerating Grad-CAM visualizations...\")\n",
    "for img_path in selected_image_paths:\n",
    "    print(f\"Processing: {img_path}\")\n",
    "    \n",
    "    \n",
    "    input_tensor, original_img = preprocess_image_for_xai(\n",
    "        img_path, config.IMAGE_SIZE, config.IMAGENET_MEAN, config.IMAGENET_STD, config.DEVICE\n",
    "    )\n",
    "\n",
    "    \n",
    "    with torch.no_grad():\n",
    "        output = model(input_tensor)\n",
    "        probabilities = torch.softmax(output, dim=1)\n",
    "        predicted_prob, predicted_idx = torch.max(probabilities, 1)\n",
    "    \n",
    "    predicted_class_name = idx_to_class[predicted_idx.item()]\n",
    "    print(f\"  Predicted class: {predicted_class_name} (Confidence: {predicted_prob.item():.4f})\")\n",
    "\n",
    "    \n",
    "    visualize_gradcam(\n",
    "        model,\n",
    "        input_tensor,\n",
    "        img_path,\n",
    "        predicted_idx.item(),\n",
    "        class_names,\n",
    "        config.MODEL_NAME,\n",
    "        config.VISUALIZATIONS_DIR\n",
    "    )\n",
    "\n",
    "print(\"\\nGrad-CAM analysis complete. Check the 'outputs/visualizations' folder for images.\")"
   ]
  }
 ],
 "metadata": {
  "kernelspec": {
   "display_name": "venv",
   "language": "python",
   "name": "python3"
  },
  "language_info": {
   "codemirror_mode": {
    "name": "ipython",
    "version": 3
   },
   "file_extension": ".py",
   "mimetype": "text/x-python",
   "name": "python",
   "nbconvert_exporter": "python",
   "pygments_lexer": "ipython3",
   "version": "3.12.10"
  }
 },
 "nbformat": 4,
 "nbformat_minor": 5
}
